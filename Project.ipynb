{
 "cells": [
  {
   "cell_type": "code",
   "execution_count": 1,
   "metadata": {},
   "outputs": [],
   "source": [
    "import numpy as np\n",
    "from numpy import pi, floor, ceil, cos, sin\n",
    "import matplotlib.pyplot as plt\n",
    "import pandas as pd\n",
    "import time\n",
    "from matplotlib import animation"
   ]
  },
  {
   "cell_type": "markdown",
   "metadata": {},
   "source": [
    "# Cellular Automata S.I.R. Model\n",
    "\n",
    "### Description\n",
    "\n",
    "Based on the reference [paper](https://www.math.uh.edu/~zpkilpat/teaching/math4309/project/physa99_fuentes.pdf), the aim of the project is to simulate and then study the evolution of Susceptible-Infected-Removed populations over space and time.\n",
    "\n",
    "### Assignments\n",
    "1. Consider a grid of a given form (squared or exagonal or whatever) and then let propagate the SIR model. \n",
    "2. Repeat point 1 several times in order to obtain several reference datasets\n",
    "3. Try to predict the evolution of the epidemic both in space and time on the basis of the previous steps, e.g. by means of \n",
    "4. Define a metric on how the epidemic evolved e.g. assigning a probability for a given node not to get infected or predict the fraction of the nodes that got infected at the end of the epidemic\n",
    "\n",
    "### Contacts\n",
    "* Leonardo Badia <badia@dei.unipd.it>"
   ]
  },
  {
   "cell_type": "code",
   "execution_count": 2,
   "metadata": {},
   "outputs": [],
   "source": [
    "def draw_line(mat, point1, point2):\n",
    "    x0, y0 = point1[0], point1[1];\n",
    "    x1, y1 = point2[0], point2[1];\n",
    "    if not (0 <= x0 < mat.shape[0] and 0 <= x1 < mat.shape[0] and\n",
    "            0 <= y0 < mat.shape[1] and 0 <= y1 < mat.shape[1]):\n",
    "        raise ValueError('Invalid coordinates.')\n",
    "        \n",
    "    if (x0, y0) == (x1, y1):\n",
    "        mat[x0, y0] = 0\n",
    "        return mat\n",
    "    \n",
    "    # Swap axes if Y slope is smaller than X slope\n",
    "    transpose = abs(x1 - x0) < abs(y1 - y0)\n",
    "    if transpose:\n",
    "        mat = mat.T\n",
    "        x0, y0, x1, y1 = y0, x0, y1, x1\n",
    "        \n",
    "    # Swap line direction to go left-to-right if necessary\n",
    "    if x0 > x1:\n",
    "        x0, y0, x1, y1 = x1, y1, x0, y0\n",
    "        \n",
    "    # Compute intermediate coordinates using line equation\n",
    "    x = np.arange(x0 + 1, x1)\n",
    "    y = np.round(((y1 - y0) / (x1 - x0)) * (x - x0) + y0).astype(x.dtype)\n",
    "    \n",
    "    # Write intermediate coordinates\n",
    "    mat[x, y] = 0\n",
    "\n",
    "    return mat if not transpose else mat.T"
   ]
  },
  {
   "cell_type": "code",
   "execution_count": 3,
   "metadata": {},
   "outputs": [],
   "source": [
    "def new_population(N, vertices):\n",
    "    \"\"\"\n",
    "    This method generate a N+1xN+1 matrix with all values equal to 2;\n",
    "    The elements inside a figure insctripted with nr of vertices equal to vertices\n",
    "    are equals to 0\n",
    "    \n",
    "    return: N+1xN+1 numpy array\n",
    "    \"\"\"\n",
    "    if vertices < 3:\n",
    "        raise Exception('The number of vertices must be greater than 2.')\n",
    "        \n",
    "    n = vertices\n",
    "    \n",
    "    if N%2 == 0: N+=1 # Da cercare di capire perchè abbiamo bisogno di questo\n",
    "    M = np.ones((N,N), dtype=int)+1\n",
    "\n",
    "    center = [floor(N/2), floor(N/2)]\n",
    "    radius = floor(N/2)\n",
    "    angle = 2*pi/n\n",
    "    \n",
    "    vertices = np.zeros((n+1,2), dtype=int)\n",
    "    for vertex in range(n):\n",
    "        x = int(floor(center[0] + radius*cos(vertex*angle)))\n",
    "        y = int(floor(center[1] - radius*sin(vertex*angle)))\n",
    "        M[x,y] = 0\n",
    "        vertices[vertex] = [x,y]\n",
    "    vertices[n] = vertices[0]\n",
    "\n",
    "    for i in range(1,len(vertices)):\n",
    "        M = draw_line(M, vertices[i-1], vertices[i])           \n",
    "       \n",
    "    for row in range(N):\n",
    "        row_i = M[row,:]\n",
    "        \n",
    "        x1 = np.argwhere(M[row,:] == 0)\n",
    "        x2 = np.argwhere(M[row,:] == 0)\n",
    "        if len(x1)==0 or len(x2)==0: continue\n",
    "        x1 = min(x1)\n",
    "        x2 = max(x2)\n",
    "        if x1==0 and x2==0: continue\n",
    "        M = draw_line(M, [row, x1], [row, x2])\n",
    "          \n",
    "    return M"
   ]
  },
  {
   "cell_type": "code",
   "execution_count": 4,
   "metadata": {
    "scrolled": false
   },
   "outputs": [
    {
     "data": {
      "image/png": "[encoded data removed]",
      "text/plain": [
       "<Figure size 432x288 with 2 Axes>"
      ]
     },
     "metadata": {
      "needs_background": "light"
     },
     "output_type": "display_data"
    }
   ],
   "source": [
    "# Test new_population\n",
    "M = new_population(50,4)\n",
    "plt.imshow(M)\n",
    "plt.colorbar()\n",
    "plt.show()"
   ]
  },
  {
   "cell_type": "code",
   "execution_count": 34,
   "metadata": {},
   "outputs": [
    {
     "name": "stdout",
     "output_type": "stream",
     "text": [
      "0\n",
      "[]\n",
      "[[ 0  1  2  3  4  5  6  7  8  9]\n",
      " [10 11 12 13 14 15 16 17 18 19]\n",
      " [20 21 22 23 24 25 26 27 28 29]\n",
      " [30 31 32 33 34 35 36 37 38 39]\n",
      " [40 41 42 43 44 45 46 47 48 49]\n",
      " [50 51 52 53 54 55 56 57 58 59]\n",
      " [60 61 62 63 64 65 66 67 68 69]\n",
      " [70 71 72 73 74 75 76 77 78 79]\n",
      " [80 81 82 83 84 85 86 87 88 89]\n",
      " [90 91 92 93 94 95 96 97 98 99]]\n"
     ]
    }
   ],
   "source": [
    "banana = np.arange(100).reshape(10,10)\n",
    "print(banana[0,0])\n",
    "print(banana[0-1:0+1+1, 0-1:0+1+1].flatten())\n",
    "print(banana)"
   ]
  },
  {
   "cell_type": "code",
   "execution_count": 33,
   "metadata": {},
   "outputs": [
    {
     "data": {
      "text/plain": [
       "array([ 0,  1, 10, 11])"
      ]
     },
     "execution_count": 33,
     "metadata": {},
     "output_type": "execute_result"
    }
   ],
   "source": [
    "i = 0\n",
    "j = 0\n",
    "i_end, j_end = 9, 9\n",
    "banana[max(i-1,0):min(i+2,i_end), max(j-1,0):min(j+2,j_end)].flatten()"
   ]
  },
  {
   "cell_type": "code",
   "execution_count": 5,
   "metadata": {},
   "outputs": [],
   "source": [
    "def change_status(indexes):\n",
    "    global population\n",
    "\n",
    "    if type(indexes)==tuple:\n",
    "        indexes=[indexes]\n",
    "    \n",
    "    for index in indexes:\n",
    "        status = population[index]   \n",
    "        if status!=0 and status!=1 and status!=-1:\n",
    "            raise Exception('status must be a number equal to -1, 0 or 1.');        \n",
    "        if status==0:\n",
    "            population[index] = 1\n",
    "        elif status==1:\n",
    "            population[index] = -1\n",
    "        population = population # useless but for clarity \n",
    "\n",
    "def neighbors(points): # Moore's neighborhood\n",
    "    global population\n",
    "    neighbors_list = []\n",
    "    if type(points)==tuple:\n",
    "        points=[points]\n",
    "    for point in points:\n",
    "        x0, y0 = point[0], point[1]\n",
    "        if not (0 <= x0 < population.shape[0] and 0 <= y0 < population.shape[1]):\n",
    "            raise ValueError('Invalid coordinates.')\n",
    "        #controlla se ad esempio x0 è alla fine della matrice. Se x0 non è alla fine della matrice, \n",
    "        #i neighbors si trovano a x0-1 fino a x0+1, altrimenti si trovano solo da x0-1 a x0\n",
    "        mx = (x0 != population.shape[0]-1)+1\n",
    "        my = (y0 != population.shape[1]-1)+1\n",
    "\n",
    "\n",
    "        for i in range(-1,mx):\n",
    "            for j in range (-1,my):\n",
    "                if population[x0+i,y0+j]!=2 and not (i==0 and j==0):\n",
    "                    neighbors_list.append((x0+i, y0+j))\n",
    "    return neighbors_list\n",
    "\n",
    "def propagate(neighbors):\n",
    "    global population\n",
    "    p_i = 0.5 # probability of infection\n",
    "    p_r = 0.05 # probability of recovery\n",
    "    \n",
    "    for neighbor in neighbors:\n",
    "        infection = np.random.choice([1, 0], p=[p_i, 1-p_i])   \n",
    "        if population[neighbor]==0 and infection:\n",
    "            change_status(neighbor)\n",
    "            \n",
    "    for infected in infected_list():\n",
    "        recovery = np.random.choice([1, 0], p=[p_r, 1-p_r])\n",
    "        if recovery: change_status(infected)\n",
    "        \n",
    "def infected_list():\n",
    "    global population\n",
    "    return [tuple(coord) for coord in np.argwhere(population==1).tolist()]"
   ]
  },
  {
   "cell_type": "code",
   "execution_count": 7,
   "metadata": {},
   "outputs": [],
   "source": [
    "def seedInitialInfected(resolution):\n",
    "    initialPosition = int(np.floor(resolution/2))\n",
    "    infected = [(initialPosition,initialPosition)]#, (center+50,center-50), (center+25,center+25)]\n",
    "    change_status(infected)\n",
    "    return infected"
   ]
  },
  {
   "cell_type": "code",
   "execution_count": 14,
   "metadata": {
    "scrolled": false
   },
   "outputs": [],
   "source": [
    "resolution, polygon_sides = 250, 4\n",
    "population = new_population(resolution, polygon_sides);\n",
    "\n",
    "infected = seedInitialInfected(resolution)\n",
    "\n",
    "# 0 = S , 1 = I , -1 = R\n"
   ]
  },
  {
   "cell_type": "code",
   "execution_count": 15,
   "metadata": {},
   "outputs": [
    {
     "data": {
      "image/png": "[encoded data removed]",
      "text/plain": [
       "<Figure size 504x504 with 1 Axes>"
      ]
     },
     "metadata": {
      "needs_background": "light"
     },
     "output_type": "display_data"
    }
   ],
   "source": [
    "fig1 = plt.figure(figsize = (7,7));\n",
    "plt.axis('off');\n",
    "    \n",
    "cycles=300    \n",
    "images = []; S=[]; I=[]; R=[];\n",
    "for cycle in range(cycles):\n",
    "    propagate(neighbors(infected))\n",
    "    infected = infected_list()\n",
    "    #im = plt.imshow(population, cmap='gray', vmin=-1, vmax=2, animated=True)\n",
    "    #images.append([im])\n",
    "    \n",
    "    #S.append(sum(sum(population==0)))\n",
    "    #I.append(sum(sum(population==1)))\n",
    "    #R.append(sum(sum(population==-1)))\n",
    "\n",
    "    if infected == []: cycle=cycles "
   ]
  },
  {
   "cell_type": "code",
   "execution_count": null,
   "metadata": {},
   "outputs": [],
   "source": [
    "ani = animation.ArtistAnimation(fig1, images, interval=1, blit=True, repeat_delay=1000)\n",
    "ani.save('Propagation.gif')\n",
    "plt.show()\n",
    "\n",
    "\n",
    "fig2 = plt.figure(figsize = (7,7))\n",
    "plt.plot(S, label='S', zorder=10, linewidth=2.5);\n",
    "plt.plot(I, label='I', zorder=10, linewidth=2.5);\n",
    "plt.plot(R, label='R', zorder=10, linewidth=2.5);\n",
    "plt.xlabel('time', fontsize=15);\n",
    "plt.ylabel('number of cases', fontsize=15);\n",
    "plt.legend(fontsize=15);\n",
    "plt.grid(linestyle=\"--\", linewidth=0.6, zorder=-10);\n",
    "plt.axvline(x=np.argwhere(I==max(I)), linestyle='--', zorder=-5, linewidth=1);\n",
    "plt.xlim([0, cycles]);"
   ]
  }
 ],
 "metadata": {
  "kernelspec": {
   "display_name": "Python 3",
   "language": "python",
   "name": "python3"
  },
  "language_info": {
   "codemirror_mode": {
    "name": "ipython",
    "version": 3
   },
   "file_extension": ".py",
   "mimetype": "text/x-python",
   "name": "python",
   "nbconvert_exporter": "python",
   "pygments_lexer": "ipython3",
   "version": "3.8.5"
  }
 },
 "nbformat": 4,
 "nbformat_minor": 2
}
